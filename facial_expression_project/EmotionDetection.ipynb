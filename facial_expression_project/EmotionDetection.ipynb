{
 "cells": [
  {
   "cell_type": "code",
   "execution_count": null,
   "metadata": {},
   "outputs": [],
   "source": [
    "import torch\n",
    "from torch import nn, save, load\n",
    "from torch.optim import Adam\n",
    "import torchvision\n",
    "from torchvision import transforms"
   ]
  },
  {
   "cell_type": "code",
   "execution_count": null,
   "metadata": {},
   "outputs": [],
   "source": [
    "# Training Data\n",
    "train_transform = transforms.Compose([\n",
    "    transforms.Grayscale(),\n",
    "    transforms.ToTensor(), # Convert image to tensor\n",
    "    transforms.Normalize(0.485, 0.229) # Normalize image\n",
    "])\n",
    "# loading the data from the directory I have stored the downloaded FER2013 dataset\n",
    "train_data = torchvision.datasets.FER2013(root='/content/dataset', split = 'train', transform=train_transform)\n",
    "print(f\"Length of train data: {len(train_data)}\")\n",
    "# create dataloaders so that the FER2013 data can be loaded into the model we will implement\n",
    "train_loader = torch.utils.data.DataLoader(train_data, batch_size=19, shuffle=True, num_workers=2)\n",
    "\n",
    "# Testing Data\n",
    "test_transform = transforms.Compose([\n",
    "    # transforms.Grayscale(),\n",
    "    transforms.ToTensor(), # Convert image to tensor\n",
    "    transforms.Normalize(0.485, 0.229) # Normalize image\n",
    "])\n",
    "# loading the data from the directory I have stored the downloaded FER2013 dataset\n",
    "test_data = torchvision.datasets.FER2013(root='/content/dataset', split = 'test' ,  transform=test_transform)\n",
    "print(f\"Length of test data: {len(test_data)}\")\n",
    "# create dataloaders so that the FER2013 data can be loaded into the model we will implement\n",
    "test_loader = torch.utils.data.DataLoader(test_data, batch_size=1, shuffle=False, num_workers=2)\n"
   ]
  },
  {
   "cell_type": "code",
   "execution_count": null,
   "metadata": {},
   "outputs": [],
   "source": []
  }
 ],
 "metadata": {
  "language_info": {
   "name": "python"
  },
  "orig_nbformat": 4
 },
 "nbformat": 4,
 "nbformat_minor": 2
}
